{
 "cells": [
  {
   "cell_type": "code",
   "execution_count": 98,
   "metadata": {},
   "outputs": [],
   "source": [
    "import praw\n",
    "import os\n",
    "from dotenv import load_dotenv, dotenv_values "
   ]
  },
  {
   "cell_type": "code",
   "execution_count": 99,
   "metadata": {},
   "outputs": [],
   "source": [
    "#Inicializamos las credenciales para el uso API\n",
    "load_dotenv()\n",
    "CLIENT_ID = os.getenv('CLIENT_ID')\n",
    "SECRET_KEY = os.getenv('SECRET_KEY')\n",
    "USER_AGENT = os.getenv('USER_AGENT')\n",
    "USERNAME = os.getenv('USERNAME')\n",
    "PASSWORD = os.getenv('PASSWORD')\n",
    "    \n",
    "reddit = praw.Reddit(\n",
    "    client_id=CLIENT_ID,\n",
    "    client_secret=SECRET_KEY,\n",
    "    user_agent=USER_AGENT,\n",
    "    username=\"SajjadHv18\",\n",
    "    password=PASSWORD\n",
    ")"
   ]
  },
  {
   "cell_type": "code",
   "execution_count": 100,
   "metadata": {},
   "outputs": [
    {
     "name": "stdout",
     "output_type": "stream",
     "text": [
      "\"Every time I look at her, I can't help but to go against my lord's teachings.\" - Gigi Murin\n"
     ]
    }
   ],
   "source": [
    "comment_id = \"lovviqt\"  \n",
    "comment = reddit.comment(id=comment_id)\n",
    "print(comment.body)\n"
   ]
  },
  {
   "cell_type": "markdown",
   "metadata": {},
   "source": [
    "Categorias a utilizar:\n",
    "Memes\n",
    "Games\n",
    "LifeStyles\n",
    "Tecnologia\n"
   ]
  },
  {
   "cell_type": "code",
   "execution_count": 101,
   "metadata": {},
   "outputs": [
    {
     "name": "stdout",
     "output_type": "stream",
     "text": [
      "Home\n",
      "Miembros: 243446\n",
      "Descripción: \n",
      "Categoría: \n",
      "\n",
      "AskReddit\n",
      "Miembros: 48469097\n",
      "Descripción: r/AskReddit is the place to ask and answer thought-provoking questions.\n",
      "Categoría: Lifestyles\n",
      "\n",
      "NoStupidQuestions\n",
      "Miembros: 4978953\n",
      "Descripción: Ask away!\n",
      "\n",
      "Disclaimer: This is an anonymous forum so answers may not be correct\n",
      "Categoría: \n",
      "\n",
      "BaldursGate3\n",
      "Miembros: 2363453\n",
      "Descripción: A community all about Baldur's Gate III, the role-playing video game by Larian Studios. BG3 is the third main game in the Baldur's Gate series. Baldur's Gate III is based on a modified version of the Dungeons & Dragons 5th edition (D&D 5e) tabletop RPG ruleset.\n",
      "\n",
      "Gather your party and venture forth!\n",
      "Categoría: \n",
      "\n",
      "facepalm\n",
      "Miembros: 8265427\n",
      "Descripción: /r/facepalm - please sir can I have some more?\n",
      "Categoría: Lifestyles\n",
      "\n",
      "interestingasfuck\n",
      "Miembros: 12689131\n",
      "Descripción: For anything truly interesting as fuck\n",
      "Categoría: \n",
      "\n",
      "Damnthatsinteresting\n",
      "Miembros: 17358156\n",
      "Descripción: For the most interesting things on the internet\n",
      "Categoría: \n",
      "\n",
      "LivestreamFail\n",
      "Miembros: 3400603\n",
      "Descripción: The place for all things livestreaming.\n",
      "Categoría: \n",
      "\n",
      "pics\n",
      "Miembros: 31101216\n",
      "Descripción: A place for photographs, pictures, and other images.\n",
      "Categoría: Lifestyles\n",
      "\n",
      "Palworld\n",
      "Miembros: 594748\n",
      "Descripción: [Unaffiliated with Pocketpair] \n",
      "Palworld is a brand-new multiplayer, open-world survival crafting game where you can befriend and collect mysterious creatures called \"Pals\" in a vast new world! Make your Pals fight, build, farm, work in factories, and more!\n",
      "Categoría: \n",
      "\n",
      "AmItheAsshole\n",
      "Miembros: 20623013\n",
      "Descripción: A catharsis for the frustrated moral philosopher in all of us, and a place to finally find out if you were wrong in an argument that's been bothering you. Tell us about any non-violent conflict you have experienced; give us both sides of the story, and find out if you're right, or you're the asshole. \n",
      "\n",
      "See our ~~*Best Of*~~ \"Most Controversial\" at /r/AITAFiltered!\n",
      "Categoría: \n",
      "\n",
      "mildlyinfuriating\n",
      "Miembros: 8338149\n",
      "Descripción: jugkfmghgug\n",
      "Categoría: Lifestyles\n",
      "\n",
      "Piracy\n",
      "Miembros: 1817755\n",
      "Descripción: ⚓ Dedicated to the discussion of digital piracy, including ethical problems and legal advancements.\n",
      "Categoría: Lifestyles\n",
      "\n",
      "PeterExplainsTheJoke\n",
      "Miembros: 766004\n",
      "Descripción: Hey gamers, this is the subreddit where you post a meme/joke you don't understand so it can be explained to you. You can also post memes about u/PeterExplainsTheJoke or just post weird pictures of Peter.\n",
      "Categoría: \n",
      "\n",
      "funny\n",
      "Miembros: 63665258\n",
      "Descripción: Reddit's largest humor depository\n",
      "Categoría: Entertainment\n",
      "\n",
      "AITAH\n",
      "Miembros: 2331465\n",
      "Descripción: this is a community like r/AmITheAsshole except unlike that subreddit here you can post interpersonal conflicts, anything that's AITA but is not allowed there even posting about Scar from the lion king and trying to convince redditors that he was not the AH.\n",
      "\n",
      "rules: don't berate others and no pornography we have children here\n",
      "Categoría: \n",
      "\n",
      "movies\n",
      "Miembros: 33665425\n",
      "Descripción: The goal of /r/Movies is to provide an inclusive place for discussions and news about films with major releases. Submissions should be for the purpose of informing or initiating a discussion, not just to entertain readers. Read our extensive list of rules for more information on other types of posts like fan-art and self-promotion, or message the moderators if you have any questions.\n",
      "Categoría: Entertainment\n",
      "\n",
      "Helldivers\n",
      "Miembros: 1464923\n",
      "Descripción: A subreddit dedicated to HELLDIVERS and HELLDIVERS II, intense co-op shooters set in a satirical dystopian future where you play as one of mankind's elite soldiers determined to spread managed democracy. Developed by Arrowhead Game Studios.\n",
      "Categoría: \n",
      "\n",
      "gaming\n",
      "Miembros: 43444352\n",
      "Descripción: The Number One Gaming forum on the Internet.\n",
      "Categoría: Games\n",
      "\n",
      "worldnews\n",
      "Miembros: 40807888\n",
      "Descripción: A place for major news from around the world, excluding US-internal news.\n",
      "Categoría: Lifestyles\n",
      "\n"
     ]
    }
   ],
   "source": [
    "subreddits = reddit.subreddits.popular(limit=20)\n",
    " \n",
    "for subreddit in subreddits:\n",
    "    print(subreddit.display_name) \n",
    "    print('Miembros:', subreddit.subscribers)  \n",
    "    print('Descripción:', subreddit.public_description) \n",
    "    print(\"Categoría:\", subreddit.advertiser_category)\n",
    "    print()"
   ]
  },
  {
   "cell_type": "code",
   "execution_count": 102,
   "metadata": {},
   "outputs": [
    {
     "name": "stdout",
     "output_type": "stream",
     "text": [
      "Lad wrote a Python script to download Alexa voice recordings, he didn't expect this email.\n",
      "Score: 12341\n",
      "Url: https://i.redd.it/2s0dj8ob12u41.png\n",
      "\n",
      "This post has:\n",
      "Score: 9235\n",
      "Url: https://www.reddit.com/r/Python/comments/hoolsm/this_post_has/\n",
      "\n",
      "I redesign the Python logo to make it more modern\n",
      "Score: 7866\n",
      "Url: https://i.redd.it/rxezjyf4ojx41.png\n",
      "\n",
      "Automate the boring stuff with python - tinder\n",
      "Score: 6725\n",
      "Url: https://gfycat.com/PointlessSimplisticAmericanquarterhorse\n",
      "\n",
      "I'm excited to share my first published book, Introduction to Python Programming for Business and Social Science Applications -- specifically geared towards students not specifically in computer science\n",
      "Score: 6506\n",
      "Url: https://i.redd.it/ebmh8z3c8rm51.png\n",
      "\n",
      "Drawing Mona Lisa with 256 circles using evolution [Github repo in comments]\n",
      "Score: 5718\n",
      "Url: https://v.redd.it/nyzyx7uyfwz41\n",
      "\n",
      "I made a simulation using Python in which a neural network learns to race\n",
      "Score: 5688\n",
      "Url: https://v.redd.it/bgmc6q20ela51\n",
      "\n",
      "Thanks to everyone’s advice, my mouse drawing algorithm has gotten much better and faster!\n",
      "Score: 5546\n",
      "Url: https://v.redd.it/sktc30zom7y41\n",
      "\n",
      "Debugging Cheat Sheet\n",
      "Score: 5456\n",
      "Url: https://i.redd.it/p1i8awsivji51.jpg\n",
      "\n",
      "Just trying to create a orbit system in python and this happened...\n",
      "Score: 5167\n",
      "Url: https://v.redd.it/8i70ps8doqr31\n",
      "\n"
     ]
    }
   ],
   "source": [
    "subreddit = reddit.subreddit('python')\n",
    "\n",
    "for submission in subreddit.top(limit=10):\n",
    "    print(submission.title)\n",
    "    print('Score:', submission.score)\n",
    "    print('Url:', submission.url)\n",
    "    print()"
   ]
  },
  {
   "cell_type": "markdown",
   "metadata": {},
   "source": [
    "Trends recientes"
   ]
  }
 ],
 "metadata": {
  "kernelspec": {
   "display_name": "base",
   "language": "python",
   "name": "python3"
  },
  "language_info": {
   "codemirror_mode": {
    "name": "ipython",
    "version": 3
   },
   "file_extension": ".py",
   "mimetype": "text/x-python",
   "name": "python",
   "nbconvert_exporter": "python",
   "pygments_lexer": "ipython3",
   "version": "3.12.6"
  }
 },
 "nbformat": 4,
 "nbformat_minor": 2
}
