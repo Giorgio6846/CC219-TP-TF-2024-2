{
 "cells": [
  {
   "cell_type": "code",
   "execution_count": 35,
   "metadata": {},
   "outputs": [],
   "source": [
    "import json\n",
    "import csv\n",
    "import pandas as pd\n",
    "from datetime import datetime\n",
    "import matplotlib.pyplot as plt\n",
    "from datetime import datetime"
   ]
  },
  {
   "cell_type": "code",
   "execution_count": 23,
   "metadata": {},
   "outputs": [],
   "source": [
    "#Se lee la data entera\n",
    "with open('../data/subreddits.json', 'r') as file:\n",
    "    data = json.load(file)"
   ]
  },
  {
   "cell_type": "code",
   "execution_count": 27,
   "metadata": {},
   "outputs": [],
   "source": [
    "#Dataframe para los subreddits\n",
    "subreddit_data = pd.DataFrame({\n",
    "    'subreddit_id': range(len(data)),  #Se crea un id para cada subreddit\n",
    "    'tittleSubreddit': [sub['tittleSubreddit'] for sub in data],\n",
    "    'subscribersReddit': [sub['subscribersReddit'] for sub in data],\n",
    "    'descriptionReddit': [sub['descriptionReddit'] for sub in data],\n",
    "    'createdReddit': [sub['createdReddit'] for sub in data],\n",
    "    'subreddit_url': [sub['subreddit_url'] for sub in data]\n",
    "})\n",
    "\n",
    "#Dataframe para los posts\n",
    "posts_data = []\n",
    "for i, sub in enumerate(data):\n",
    "    for post in sub['upVotedPosts']:\n",
    "        posts_data.append({\n",
    "            'subreddit_id': i,  #foreign key\n",
    "            'author': post['author'],\n",
    "            'titlePost': post['titlePost'],\n",
    "            'selftext': post['selftext'],\n",
    "            'createdPost': post['createdPost'],\n",
    "            'scorePost': post['scorePost'],\n",
    "            'upVotedRatio': post['upVotedRatio'],\n",
    "            'upVotes': post['upVotes'],\n",
    "            'flair': post['flair'],\n",
    "            'commentsPost': post['commentsPost'],\n",
    "            'urlPost': post['urlPost']\n",
    "        })\n",
    "\n",
    "posts_data = pd.DataFrame(posts_data)"
   ]
  },
  {
   "cell_type": "code",
   "execution_count": 25,
   "metadata": {},
   "outputs": [
    {
     "data": {
      "text/html": [
       "<div>\n",
       "<style scoped>\n",
       "    .dataframe tbody tr th:only-of-type {\n",
       "        vertical-align: middle;\n",
       "    }\n",
       "\n",
       "    .dataframe tbody tr th {\n",
       "        vertical-align: top;\n",
       "    }\n",
       "\n",
       "    .dataframe thead th {\n",
       "        text-align: right;\n",
       "    }\n",
       "</style>\n",
       "<table border=\"1\" class=\"dataframe\">\n",
       "  <thead>\n",
       "    <tr style=\"text-align: right;\">\n",
       "      <th></th>\n",
       "      <th>subreddit_id</th>\n",
       "      <th>tittleSubreddit</th>\n",
       "      <th>subscribersReddit</th>\n",
       "      <th>descriptionReddit</th>\n",
       "      <th>createdReddit</th>\n",
       "      <th>subreddit_url</th>\n",
       "    </tr>\n",
       "  </thead>\n",
       "  <tbody>\n",
       "    <tr>\n",
       "      <th>0</th>\n",
       "      <td>0</td>\n",
       "      <td>Home</td>\n",
       "      <td>243743</td>\n",
       "      <td></td>\n",
       "      <td>1.232850e+09</td>\n",
       "      <td>https://www.reddit.com/r/Home/</td>\n",
       "    </tr>\n",
       "    <tr>\n",
       "      <th>1</th>\n",
       "      <td>1</td>\n",
       "      <td>AskReddit</td>\n",
       "      <td>48481312</td>\n",
       "      <td>r/AskReddit is the place to ask and answer tho...</td>\n",
       "      <td>1.201233e+09</td>\n",
       "      <td>https://www.reddit.com/r/AskReddit/</td>\n",
       "    </tr>\n",
       "    <tr>\n",
       "      <th>2</th>\n",
       "      <td>2</td>\n",
       "      <td>NoStupidQuestions</td>\n",
       "      <td>4980890</td>\n",
       "      <td>Ask away!\\n\\nDisclaimer: This is an anonymous ...</td>\n",
       "      <td>1.359795e+09</td>\n",
       "      <td>https://www.reddit.com/r/NoStupidQuestions/</td>\n",
       "    </tr>\n",
       "    <tr>\n",
       "      <th>3</th>\n",
       "      <td>3</td>\n",
       "      <td>BaldursGate3</td>\n",
       "      <td>2364982</td>\n",
       "      <td>A community all about Baldur's Gate III, the r...</td>\n",
       "      <td>1.559227e+09</td>\n",
       "      <td>https://www.reddit.com/r/BaldursGate3/</td>\n",
       "    </tr>\n",
       "    <tr>\n",
       "      <th>4</th>\n",
       "      <td>4</td>\n",
       "      <td>facepalm</td>\n",
       "      <td>8265075</td>\n",
       "      <td>/r/facepalm - please sir can I have some more?</td>\n",
       "      <td>1.251449e+09</td>\n",
       "      <td>https://www.reddit.com/r/facepalm/</td>\n",
       "    </tr>\n",
       "  </tbody>\n",
       "</table>\n",
       "</div>"
      ],
      "text/plain": [
       "   subreddit_id    tittleSubreddit  subscribersReddit  \\\n",
       "0             0               Home             243743   \n",
       "1             1          AskReddit           48481312   \n",
       "2             2  NoStupidQuestions            4980890   \n",
       "3             3       BaldursGate3            2364982   \n",
       "4             4           facepalm            8265075   \n",
       "\n",
       "                                   descriptionReddit  createdReddit  \\\n",
       "0                                                      1.232850e+09   \n",
       "1  r/AskReddit is the place to ask and answer tho...   1.201233e+09   \n",
       "2  Ask away!\\n\\nDisclaimer: This is an anonymous ...   1.359795e+09   \n",
       "3  A community all about Baldur's Gate III, the r...   1.559227e+09   \n",
       "4     /r/facepalm - please sir can I have some more?   1.251449e+09   \n",
       "\n",
       "                                 subreddit_url  \n",
       "0               https://www.reddit.com/r/Home/  \n",
       "1          https://www.reddit.com/r/AskReddit/  \n",
       "2  https://www.reddit.com/r/NoStupidQuestions/  \n",
       "3       https://www.reddit.com/r/BaldursGate3/  \n",
       "4           https://www.reddit.com/r/facepalm/  "
      ]
     },
     "execution_count": 25,
     "metadata": {},
     "output_type": "execute_result"
    }
   ],
   "source": [
    "subreddit_data.head()"
   ]
  },
  {
   "cell_type": "code",
   "execution_count": null,
   "metadata": {},
   "outputs": [
    {
     "data": {
      "text/html": [
       "<div>\n",
       "<style scoped>\n",
       "    .dataframe tbody tr th:only-of-type {\n",
       "        vertical-align: middle;\n",
       "    }\n",
       "\n",
       "    .dataframe tbody tr th {\n",
       "        vertical-align: top;\n",
       "    }\n",
       "\n",
       "    .dataframe thead th {\n",
       "        text-align: right;\n",
       "    }\n",
       "</style>\n",
       "<table border=\"1\" class=\"dataframe\">\n",
       "  <thead>\n",
       "    <tr style=\"text-align: right;\">\n",
       "      <th></th>\n",
       "      <th>subreddit_id</th>\n",
       "      <th>author</th>\n",
       "      <th>titlePost</th>\n",
       "      <th>createdPost</th>\n",
       "      <th>scorePost</th>\n",
       "      <th>upVotedRatio</th>\n",
       "      <th>upVotes</th>\n",
       "      <th>flair</th>\n",
       "      <th>commentsPost</th>\n",
       "      <th>urlPost</th>\n",
       "    </tr>\n",
       "  </thead>\n",
       "  <tbody>\n",
       "    <tr>\n",
       "      <th>0</th>\n",
       "      <td>0</td>\n",
       "      <td>elias3663</td>\n",
       "      <td>What is the price range for a house like this?</td>\n",
       "      <td>2023-08-18 10:17:43</td>\n",
       "      <td>11633</td>\n",
       "      <td>0.92</td>\n",
       "      <td>11633</td>\n",
       "      <td>None</td>\n",
       "      <td>1727</td>\n",
       "      <td>https://www.reddit.com/gallery/15ugiho</td>\n",
       "    </tr>\n",
       "    <tr>\n",
       "      <th>1</th>\n",
       "      <td>0</td>\n",
       "      <td>deckin-designer</td>\n",
       "      <td>Why is there a door above the garage?</td>\n",
       "      <td>2023-05-18 16:41:57</td>\n",
       "      <td>6026</td>\n",
       "      <td>0.96</td>\n",
       "      <td>6026</td>\n",
       "      <td>None</td>\n",
       "      <td>1700</td>\n",
       "      <td>https://i.redd.it/tjh8baqltn0b1.jpg</td>\n",
       "    </tr>\n",
       "    <tr>\n",
       "      <th>2</th>\n",
       "      <td>0</td>\n",
       "      <td>effectsjay</td>\n",
       "      <td>Can I fix these garage door torsion springs by...</td>\n",
       "      <td>2023-08-26 19:44:33</td>\n",
       "      <td>5581</td>\n",
       "      <td>0.86</td>\n",
       "      <td>5581</td>\n",
       "      <td>None</td>\n",
       "      <td>3644</td>\n",
       "      <td>https://i.redd.it/kiqk8j2cdikb1.jpg</td>\n",
       "    </tr>\n",
       "    <tr>\n",
       "      <th>3</th>\n",
       "      <td>0</td>\n",
       "      <td>unsold_dildo</td>\n",
       "      <td>What you call these types of designs</td>\n",
       "      <td>2023-08-21 17:37:07</td>\n",
       "      <td>2824</td>\n",
       "      <td>0.96</td>\n",
       "      <td>2824</td>\n",
       "      <td>None</td>\n",
       "      <td>579</td>\n",
       "      <td>https://i.redd.it/5efyh6f12ijb1.jpg</td>\n",
       "    </tr>\n",
       "    <tr>\n",
       "      <th>4</th>\n",
       "      <td>0</td>\n",
       "      <td>Mysterious_Tea_4748</td>\n",
       "      <td>An inspector said this is termite damage and m...</td>\n",
       "      <td>2023-07-28 17:40:05</td>\n",
       "      <td>2692</td>\n",
       "      <td>0.94</td>\n",
       "      <td>2692</td>\n",
       "      <td>None</td>\n",
       "      <td>952</td>\n",
       "      <td>https://i.redd.it/wfgdih7psqeb1.jpg</td>\n",
       "    </tr>\n",
       "  </tbody>\n",
       "</table>\n",
       "</div>"
      ],
      "text/plain": [
       "   subreddit_id               author  \\\n",
       "0             0            elias3663   \n",
       "1             0      deckin-designer   \n",
       "2             0           effectsjay   \n",
       "3             0         unsold_dildo   \n",
       "4             0  Mysterious_Tea_4748   \n",
       "\n",
       "                                           titlePost         createdPost  \\\n",
       "0     What is the price range for a house like this? 2023-08-18 10:17:43   \n",
       "1              Why is there a door above the garage? 2023-05-18 16:41:57   \n",
       "2  Can I fix these garage door torsion springs by... 2023-08-26 19:44:33   \n",
       "3               What you call these types of designs 2023-08-21 17:37:07   \n",
       "4  An inspector said this is termite damage and m... 2023-07-28 17:40:05   \n",
       "\n",
       "   scorePost  upVotedRatio  upVotes flair  commentsPost  \\\n",
       "0      11633          0.92    11633  None          1727   \n",
       "1       6026          0.96     6026  None          1700   \n",
       "2       5581          0.86     5581  None          3644   \n",
       "3       2824          0.96     2824  None           579   \n",
       "4       2692          0.94     2692  None           952   \n",
       "\n",
       "                                  urlPost  \n",
       "0  https://www.reddit.com/gallery/15ugiho  \n",
       "1     https://i.redd.it/tjh8baqltn0b1.jpg  \n",
       "2     https://i.redd.it/kiqk8j2cdikb1.jpg  \n",
       "3     https://i.redd.it/5efyh6f12ijb1.jpg  \n",
       "4     https://i.redd.it/wfgdih7psqeb1.jpg  "
      ]
     },
     "execution_count": 39,
     "metadata": {},
     "output_type": "execute_result"
    }
   ],
   "source": [
    "posts_data.head()"
   ]
  },
  {
   "cell_type": "markdown",
   "metadata": {},
   "source": [
    "**Procesamiento subreddits**"
   ]
  },
  {
   "cell_type": "code",
   "execution_count": 43,
   "metadata": {},
   "outputs": [
    {
     "data": {
      "text/plain": [
       "np.int64(1)"
      ]
     },
     "execution_count": 43,
     "metadata": {},
     "output_type": "execute_result"
    }
   ],
   "source": [
    "#Cambiamos el formato de las fechas en posts_data a datetime\n",
    "posts_data['createdPost'] = pd.to_datetime(posts_data['createdPost'], unit='s')\n",
    "#Debido a que pocos registros tienen la descripción vacía, se puede asumir su uso.\n",
    "numNulls = (subreddit_data[\"descriptionReddit\"] == \"\").sum()\n",
    "numNulls "
   ]
  },
  {
   "cell_type": "markdown",
   "metadata": {},
   "source": [
    "***Procesamiento posts***"
   ]
  },
  {
   "cell_type": "code",
   "execution_count": 42,
   "metadata": {},
   "outputs": [
    {
     "data": {
      "text/plain": [
       "0        https://www.reddit.com/gallery/15ugiho\n",
       "1           https://i.redd.it/tjh8baqltn0b1.jpg\n",
       "2           https://i.redd.it/kiqk8j2cdikb1.jpg\n",
       "3           https://i.redd.it/5efyh6f12ijb1.jpg\n",
       "4           https://i.redd.it/wfgdih7psqeb1.jpg\n",
       "                          ...                  \n",
       "25386       https://i.redd.it/xsxkwdd0g4xa1.jpg\n",
       "25387       https://i.redd.it/3v9263uo3b2b1.jpg\n",
       "25388       https://i.redd.it/wod3okj7zzva1.jpg\n",
       "25389       https://i.redd.it/o7ahwam64esa1.jpg\n",
       "25390       https://i.redd.it/62wy4d8x0vxb1.jpg\n",
       "Name: urlPost, Length: 25391, dtype: object"
      ]
     },
     "execution_count": 42,
     "metadata": {},
     "output_type": "execute_result"
    }
   ],
   "source": [
    "# Identificamos y eliminamos las publicaciones que no comienzan con las URLs especificadas\n",
    "posts_data = posts_data.drop(posts_data[~posts_data[\"urlPost\"].str.startswith((\"https://www.reddit\", \"https://v.redd\", \"https://i.redd\"))].index)\n",
    "posts_data = posts_data.reset_index(drop=True)\n",
    "posts_data[\"urlPost\"]"
   ]
  },
  {
   "cell_type": "code",
   "execution_count": 33,
   "metadata": {},
   "outputs": [
    {
     "name": "stdout",
     "output_type": "stream",
     "text": [
      "Total de registros en la columna 'selftext': 25391\n",
      "Porcentaje de registros vacios en la columna 'selftext': 68.35099050844788 %\n"
     ]
    }
   ],
   "source": [
    "#Se elimina la columna 'selftext' debido alto porcentage de vacios\n",
    "numNulls = (posts_data[\"selftext\"] == \"\").sum()\n",
    "percentage = numNulls / len(posts_data[\"selftext\"]) * 100\n",
    "\n",
    "print(\"Total de registros en la columna 'selftext':\", len(posts_data[\"selftext\"]))\n",
    "print(\"Porcentaje de registros vacios en la columna 'selftext':\", percentage, \"%\")\n",
    "posts_data = posts_data.drop(columns=[\"selftext\"])"
   ]
  },
  {
   "cell_type": "code",
   "execution_count": 44,
   "metadata": {},
   "outputs": [
    {
     "data": {
      "image/png": "[encoded data removed]",
      "text/plain": [
       "<Figure size 1200x600 with 1 Axes>"
      ]
     },
     "metadata": {},
     "output_type": "display_data"
    }
   ],
   "source": [
    "postsMonth = posts_data['createdPost'].dt.to_period('M').value_counts().sort_index()\n",
    "date_range = pd.period_range(start=postsMonth.index.min(), end=postsMonth.index.max(), freq='M')\n",
    "postsMonth = postsMonth.reindex(date_range, fill_value=0)\n",
    "\n",
    "plt.figure(figsize=(12, 6))\n",
    "postsMonth.plot(kind='bar')\n",
    "plt.title('Número de publicaciones por mes')\n",
    "plt.xlabel('Mes')\n",
    "plt.ylabel('Número de publicaciones')\n",
    "plt.show()"
   ]
  },
  {
   "cell_type": "code",
   "execution_count": 45,
   "metadata": {},
   "outputs": [],
   "source": [
    "subreddit_data.to_csv('../data/subreddit_data.csv', index=False)\n",
    "posts_data.to_csv('../data/posts_data.csv', index=False)"
   ]
  }
 ],
 "metadata": {
  "kernelspec": {
   "display_name": "Python 3",
   "language": "python",
   "name": "python3"
  },
  "language_info": {
   "codemirror_mode": {
    "name": "ipython",
    "version": 3
   },
   "file_extension": ".py",
   "mimetype": "text/x-python",
   "name": "python",
   "nbconvert_exporter": "python",
   "pygments_lexer": "ipython3",
   "version": "3.13.0"
  }
 },
 "nbformat": 4,
 "nbformat_minor": 2
}
