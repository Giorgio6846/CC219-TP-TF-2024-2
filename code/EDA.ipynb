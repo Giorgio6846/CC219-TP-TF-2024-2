{
 "cells": [
  {
   "cell_type": "code",
   "execution_count": 58,
   "metadata": {},
   "outputs": [],
   "source": [
    "import json\n",
    "import csv\n",
    "import pandas as pd\n",
    "from datetime import datetime\n",
    "import matplotlib.pyplot as plt\n",
    "from datetime import datetime"
   ]
  },
  {
   "cell_type": "code",
   "execution_count": 59,
   "metadata": {},
   "outputs": [],
   "source": [
    "#Se lee la data entera\n",
    "with open('../data/subreddits.json', 'r') as file:\n",
    "    data = json.load(file)"
   ]
  },
  {
   "cell_type": "code",
   "execution_count": 60,
   "metadata": {},
   "outputs": [],
   "source": [
    "#Dataframe para los subreddits\n",
    "subreddit_data = pd.DataFrame({\n",
    "    'subreddit_id': range(len(data)),  #Se crea un id para cada subreddit\n",
    "    'tittleSubreddit': [sub['tittleSubreddit'] for sub in data],\n",
    "    'subscribersReddit': [sub['subscribersReddit'] for sub in data],\n",
    "    'descriptionReddit': [sub['descriptionReddit'] for sub in data],\n",
    "    'createdReddit': [sub['createdReddit'] for sub in data],\n",
    "})\n",
    "\n",
    "#Dataframe para los posts\n",
    "posts_data = []\n",
    "for i, sub in enumerate(data):\n",
    "    for post in sub['upVotedPosts']:\n",
    "        posts_data.append({\n",
    "            'subreddit_id': i,  #foreign key\n",
    "            'titlePost': post['titlePost'],\n",
    "            'selftext': post['selftext'],\n",
    "            'createdPost': post['createdPost'],\n",
    "            'scorePost': post['scorePost'],\n",
    "            'upVotedRatio': post['upVotedRatio'],\n",
    "            'upVotes': post['upVotes'],\n",
    "            'commentsPost': post['commentsPost'],\n",
    "        })\n",
    "\n",
    "posts_data = pd.DataFrame(posts_data)"
   ]
  },
  {
   "cell_type": "code",
   "execution_count": 61,
   "metadata": {},
   "outputs": [
    {
     "data": {
      "text/plain": [
       "(100, 84880)"
      ]
     },
     "execution_count": 61,
     "metadata": {},
     "output_type": "execute_result"
    }
   ],
   "source": [
    "len(subreddit_data), len(posts_data)"
   ]
  },
  {
   "cell_type": "code",
   "execution_count": 62,
   "metadata": {},
   "outputs": [
    {
     "data": {
      "text/html": [
       "<div>\n",
       "<style scoped>\n",
       "    .dataframe tbody tr th:only-of-type {\n",
       "        vertical-align: middle;\n",
       "    }\n",
       "\n",
       "    .dataframe tbody tr th {\n",
       "        vertical-align: top;\n",
       "    }\n",
       "\n",
       "    .dataframe thead th {\n",
       "        text-align: right;\n",
       "    }\n",
       "</style>\n",
       "<table border=\"1\" class=\"dataframe\">\n",
       "  <thead>\n",
       "    <tr style=\"text-align: right;\">\n",
       "      <th></th>\n",
       "      <th>subreddit_id</th>\n",
       "      <th>tittleSubreddit</th>\n",
       "      <th>subscribersReddit</th>\n",
       "      <th>descriptionReddit</th>\n",
       "      <th>createdReddit</th>\n",
       "    </tr>\n",
       "  </thead>\n",
       "  <tbody>\n",
       "    <tr>\n",
       "      <th>0</th>\n",
       "      <td>0</td>\n",
       "      <td>Home</td>\n",
       "      <td>256481</td>\n",
       "      <td></td>\n",
       "      <td>1.232850e+09</td>\n",
       "    </tr>\n",
       "    <tr>\n",
       "      <th>1</th>\n",
       "      <td>1</td>\n",
       "      <td>AskReddit</td>\n",
       "      <td>49149403</td>\n",
       "      <td>r/AskReddit is the place to ask and answer tho...</td>\n",
       "      <td>1.201233e+09</td>\n",
       "    </tr>\n",
       "    <tr>\n",
       "      <th>2</th>\n",
       "      <td>2</td>\n",
       "      <td>NoStupidQuestions</td>\n",
       "      <td>5100631</td>\n",
       "      <td>Ask away!\\n\\nDisclaimer: This is an anonymous ...</td>\n",
       "      <td>1.359795e+09</td>\n",
       "    </tr>\n",
       "    <tr>\n",
       "      <th>3</th>\n",
       "      <td>3</td>\n",
       "      <td>BaldursGate3</td>\n",
       "      <td>2583517</td>\n",
       "      <td>A community all about Baldur's Gate III, the r...</td>\n",
       "      <td>1.559227e+09</td>\n",
       "    </tr>\n",
       "    <tr>\n",
       "      <th>4</th>\n",
       "      <td>4</td>\n",
       "      <td>facepalm</td>\n",
       "      <td>8227193</td>\n",
       "      <td>/r/facepalm - please sir can I have some more?</td>\n",
       "      <td>1.251449e+09</td>\n",
       "    </tr>\n",
       "  </tbody>\n",
       "</table>\n",
       "</div>"
      ],
      "text/plain": [
       "   subreddit_id    tittleSubreddit  subscribersReddit  \\\n",
       "0             0               Home             256481   \n",
       "1             1          AskReddit           49149403   \n",
       "2             2  NoStupidQuestions            5100631   \n",
       "3             3       BaldursGate3            2583517   \n",
       "4             4           facepalm            8227193   \n",
       "\n",
       "                                   descriptionReddit  createdReddit  \n",
       "0                                                      1.232850e+09  \n",
       "1  r/AskReddit is the place to ask and answer tho...   1.201233e+09  \n",
       "2  Ask away!\\n\\nDisclaimer: This is an anonymous ...   1.359795e+09  \n",
       "3  A community all about Baldur's Gate III, the r...   1.559227e+09  \n",
       "4     /r/facepalm - please sir can I have some more?   1.251449e+09  "
      ]
     },
     "execution_count": 62,
     "metadata": {},
     "output_type": "execute_result"
    }
   ],
   "source": [
    "subreddit_data.head()"
   ]
  },
  {
   "cell_type": "code",
   "execution_count": 63,
   "metadata": {},
   "outputs": [
    {
     "data": {
      "text/html": [
       "<div>\n",
       "<style scoped>\n",
       "    .dataframe tbody tr th:only-of-type {\n",
       "        vertical-align: middle;\n",
       "    }\n",
       "\n",
       "    .dataframe tbody tr th {\n",
       "        vertical-align: top;\n",
       "    }\n",
       "\n",
       "    .dataframe thead th {\n",
       "        text-align: right;\n",
       "    }\n",
       "</style>\n",
       "<table border=\"1\" class=\"dataframe\">\n",
       "  <thead>\n",
       "    <tr style=\"text-align: right;\">\n",
       "      <th></th>\n",
       "      <th>subreddit_id</th>\n",
       "      <th>titlePost</th>\n",
       "      <th>selftext</th>\n",
       "      <th>createdPost</th>\n",
       "      <th>scorePost</th>\n",
       "      <th>upVotedRatio</th>\n",
       "      <th>upVotes</th>\n",
       "      <th>commentsPost</th>\n",
       "    </tr>\n",
       "  </thead>\n",
       "  <tbody>\n",
       "    <tr>\n",
       "      <th>0</th>\n",
       "      <td>0</td>\n",
       "      <td>Those mortgage rates ...</td>\n",
       "      <td></td>\n",
       "      <td>1.713931e+09</td>\n",
       "      <td>22171</td>\n",
       "      <td>0.97</td>\n",
       "      <td>22171</td>\n",
       "      <td>1655</td>\n",
       "    </tr>\n",
       "    <tr>\n",
       "      <th>1</th>\n",
       "      <td>0</td>\n",
       "      <td>My parents bought the house 6 months ago after...</td>\n",
       "      <td>Any idea for next steps and what their options...</td>\n",
       "      <td>1.715981e+09</td>\n",
       "      <td>19064</td>\n",
       "      <td>0.89</td>\n",
       "      <td>19064</td>\n",
       "      <td>5813</td>\n",
       "    </tr>\n",
       "    <tr>\n",
       "      <th>2</th>\n",
       "      <td>0</td>\n",
       "      <td>$16,000 for 8 Pella windows. Would you be ok w...</td>\n",
       "      <td></td>\n",
       "      <td>1.724790e+09</td>\n",
       "      <td>3531</td>\n",
       "      <td>0.98</td>\n",
       "      <td>3531</td>\n",
       "      <td>1739</td>\n",
       "    </tr>\n",
       "    <tr>\n",
       "      <th>3</th>\n",
       "      <td>0</td>\n",
       "      <td>Basement floor leak</td>\n",
       "      <td>Got quite a few of these leaks in the basement...</td>\n",
       "      <td>1.721152e+09</td>\n",
       "      <td>1878</td>\n",
       "      <td>0.98</td>\n",
       "      <td>1878</td>\n",
       "      <td>569</td>\n",
       "    </tr>\n",
       "    <tr>\n",
       "      <th>4</th>\n",
       "      <td>0</td>\n",
       "      <td>My builder told me this was normal and that’s ...</td>\n",
       "      <td>We recently bought a new build home. When we w...</td>\n",
       "      <td>1.715485e+09</td>\n",
       "      <td>1790</td>\n",
       "      <td>0.95</td>\n",
       "      <td>1790</td>\n",
       "      <td>634</td>\n",
       "    </tr>\n",
       "  </tbody>\n",
       "</table>\n",
       "</div>"
      ],
      "text/plain": [
       "   subreddit_id                                          titlePost  \\\n",
       "0             0                          Those mortgage rates ...    \n",
       "1             0  My parents bought the house 6 months ago after...   \n",
       "2             0  $16,000 for 8 Pella windows. Would you be ok w...   \n",
       "3             0                                Basement floor leak   \n",
       "4             0  My builder told me this was normal and that’s ...   \n",
       "\n",
       "                                            selftext   createdPost  scorePost  \\\n",
       "0                                                     1.713931e+09      22171   \n",
       "1  Any idea for next steps and what their options...  1.715981e+09      19064   \n",
       "2                                                     1.724790e+09       3531   \n",
       "3  Got quite a few of these leaks in the basement...  1.721152e+09       1878   \n",
       "4  We recently bought a new build home. When we w...  1.715485e+09       1790   \n",
       "\n",
       "   upVotedRatio  upVotes  commentsPost  \n",
       "0          0.97    22171          1655  \n",
       "1          0.89    19064          5813  \n",
       "2          0.98     3531          1739  \n",
       "3          0.98     1878           569  \n",
       "4          0.95     1790           634  "
      ]
     },
     "execution_count": 63,
     "metadata": {},
     "output_type": "execute_result"
    }
   ],
   "source": [
    "posts_data.head()"
   ]
  },
  {
   "cell_type": "markdown",
   "metadata": {},
   "source": [
    "**Procesamiento subreddits**"
   ]
  },
  {
   "cell_type": "code",
   "execution_count": 64,
   "metadata": {},
   "outputs": [
    {
     "data": {
      "text/plain": [
       "1"
      ]
     },
     "execution_count": 64,
     "metadata": {},
     "output_type": "execute_result"
    }
   ],
   "source": [
    "#Cambiamos el formato de las fechas en posts_data a datetime\n",
    "posts_data['createdPost'] = pd.to_datetime(posts_data['createdPost'], unit='s')\n",
    "subreddit_data['createdReddit'] = pd.to_datetime(subreddit_data['createdReddit'], unit='s')\n",
    "\n",
    "posts_data = posts_data[~((posts_data['createdPost'].dt.year == 2024) & (posts_data['createdPost'].dt.month == 10))]\n",
    "subreddit_data = subreddit_data[~((subreddit_data['createdReddit'].dt.year == 2024) & (subreddit_data['createdReddit'].dt.month == 10))]\n",
    "posts_data = posts_data[~((posts_data['createdPost'].dt.year == 2023) & (posts_data['createdPost'].dt.month == 11))]\n",
    "subreddit_data = subreddit_data[~((subreddit_data['createdReddit'].dt.year == 2023) & (subreddit_data['createdReddit'].dt.month == 11))]\n",
    "#Debido a que pocos registros tienen la descripción vacía, se puede asumir su uso.\n",
    "numNulls = (subreddit_data[\"descriptionReddit\"] == \"\").sum()\n",
    "numNulls "
   ]
  },
  {
   "cell_type": "markdown",
   "metadata": {},
   "source": [
    "***Procesamiento posts***"
   ]
  },
  {
   "cell_type": "code",
   "execution_count": 65,
   "metadata": {},
   "outputs": [
    {
     "name": "stdout",
     "output_type": "stream",
     "text": [
      "Total de registros en la columna 'selftext': 81544\n",
      "Porcentaje de registros vacios en la columna 'selftext': 67.95472383007947 %\n"
     ]
    }
   ],
   "source": [
    "#Se elimina la columna 'selftext' debido alto porcentage de vacios\n",
    "numNulls = (posts_data[\"selftext\"] == \"\").sum()\n",
    "percentage = numNulls / len(posts_data[\"selftext\"]) * 100\n",
    "\n",
    "print(\"Total de registros en la columna 'selftext':\", len(posts_data[\"selftext\"]))\n",
    "print(\"Porcentaje de registros vacios en la columna 'selftext':\", percentage, \"%\")\n",
    "posts_data = posts_data.drop(columns=[\"selftext\"])"
   ]
  },
  {
   "cell_type": "code",
   "execution_count": 66,
   "metadata": {},
   "outputs": [
    {
     "data": {
      "image/png": "[encoded data removed]",
      "text/plain": [
       "<Figure size 1200x600 with 1 Axes>"
      ]
     },
     "metadata": {},
     "output_type": "display_data"
    }
   ],
   "source": [
    "postsMonth = posts_data['createdPost'].dt.to_period('M').value_counts().sort_index()\n",
    "date_range = pd.period_range(start=postsMonth.index.min(), end=postsMonth.index.max(), freq='M')\n",
    "postsMonth = postsMonth.reindex(date_range, fill_value=0)\n",
    "\n",
    "plt.figure(figsize=(12, 6))\n",
    "postsMonth.plot(kind='bar')\n",
    "plt.title('Número de publicaciones por mes')\n",
    "plt.xlabel('Mes')\n",
    "plt.ylabel('Número de publicaciones')\n",
    "plt.show()"
   ]
  },
  {
   "cell_type": "code",
   "execution_count": 67,
   "metadata": {},
   "outputs": [
    {
     "data": {
      "text/plain": [
       "81544"
      ]
     },
     "execution_count": 67,
     "metadata": {},
     "output_type": "execute_result"
    }
   ],
   "source": [
    "subreddit_data.head()\n",
    "len(posts_data)"
   ]
  },
  {
   "cell_type": "code",
   "execution_count": 68,
   "metadata": {},
   "outputs": [],
   "source": [
    "subreddit_data.to_csv('../data/subreddit_data.csv', index=False)\n",
    "posts_data.to_csv('../data/posts_data.csv', index=False)"
   ]
  }
 ],
 "metadata": {
  "kernelspec": {
   "display_name": "base",
   "language": "python",
   "name": "python3"
  },
  "language_info": {
   "codemirror_mode": {
    "name": "ipython",
    "version": 3
   },
   "file_extension": ".py",
   "mimetype": "text/x-python",
   "name": "python",
   "nbconvert_exporter": "python",
   "pygments_lexer": "ipython3",
   "version": "3.11.7"
  }
 },
 "nbformat": 4,
 "nbformat_minor": 2
}
