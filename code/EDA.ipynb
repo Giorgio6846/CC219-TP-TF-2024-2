{
 "cells": [
  {
   "cell_type": "code",
   "execution_count": 45,
   "metadata": {},
   "outputs": [],
   "source": [
    "import json\n",
    "import csv\n",
    "import pandas as pd\n",
    "from datetime import datetime\n",
    "import matplotlib.pyplot as plt\n",
    "from datetime import datetime"
   ]
  },
  {
   "cell_type": "code",
   "execution_count": 46,
   "metadata": {},
   "outputs": [],
   "source": [
    "#Se lee la data entera\n",
    "with open('../data/subreddits.json', 'r') as file:\n",
    "    data = json.load(file)"
   ]
  },
  {
   "cell_type": "code",
   "execution_count": 47,
   "metadata": {},
   "outputs": [],
   "source": [
    "#Dataframe para los subreddits\n",
    "subreddit_data = pd.DataFrame({\n",
    "    'subreddit_id': range(len(data)),  #Se crea un id para cada subreddit\n",
    "    'tittleSubreddit': [sub['tittleSubreddit'] for sub in data],\n",
    "    'subscribersReddit': [sub['subscribersReddit'] for sub in data],\n",
    "    'descriptionReddit': [sub['descriptionReddit'] for sub in data],\n",
    "    'createdReddit': [sub['createdReddit'] for sub in data],\n",
    "})\n",
    "\n",
    "#Dataframe para los posts\n",
    "posts_data = []\n",
    "for i, sub in enumerate(data):\n",
    "    for post in sub['upVotedPosts']:\n",
    "        posts_data.append({\n",
    "            'subreddit_id': i,  #foreign key\n",
    "            'titlePost': post['titlePost'],\n",
    "            'selftext': post['selftext'],\n",
    "            'createdPost': post['createdPost'],\n",
    "            'scorePost': post['scorePost'],\n",
    "            'upVotedRatio': post['upVotedRatio'],\n",
    "            'upVotes': post['upVotes'],\n",
    "            'commentsPost': post['commentsPost'],\n",
    "        })\n",
    "\n",
    "posts_data = pd.DataFrame(posts_data)"
   ]
  },
  {
   "cell_type": "code",
   "execution_count": 48,
   "metadata": {},
   "outputs": [
    {
     "data": {
      "text/html": [
       "<div>\n",
       "<style scoped>\n",
       "    .dataframe tbody tr th:only-of-type {\n",
       "        vertical-align: middle;\n",
       "    }\n",
       "\n",
       "    .dataframe tbody tr th {\n",
       "        vertical-align: top;\n",
       "    }\n",
       "\n",
       "    .dataframe thead th {\n",
       "        text-align: right;\n",
       "    }\n",
       "</style>\n",
       "<table border=\"1\" class=\"dataframe\">\n",
       "  <thead>\n",
       "    <tr style=\"text-align: right;\">\n",
       "      <th></th>\n",
       "      <th>subreddit_id</th>\n",
       "      <th>tittleSubreddit</th>\n",
       "      <th>subscribersReddit</th>\n",
       "      <th>descriptionReddit</th>\n",
       "      <th>createdReddit</th>\n",
       "    </tr>\n",
       "  </thead>\n",
       "  <tbody>\n",
       "    <tr>\n",
       "      <th>0</th>\n",
       "      <td>0</td>\n",
       "      <td>Home</td>\n",
       "      <td>243743</td>\n",
       "      <td></td>\n",
       "      <td>1.232850e+09</td>\n",
       "    </tr>\n",
       "    <tr>\n",
       "      <th>1</th>\n",
       "      <td>1</td>\n",
       "      <td>AskReddit</td>\n",
       "      <td>48481312</td>\n",
       "      <td>r/AskReddit is the place to ask and answer tho...</td>\n",
       "      <td>1.201233e+09</td>\n",
       "    </tr>\n",
       "    <tr>\n",
       "      <th>2</th>\n",
       "      <td>2</td>\n",
       "      <td>NoStupidQuestions</td>\n",
       "      <td>4980890</td>\n",
       "      <td>Ask away!\\n\\nDisclaimer: This is an anonymous ...</td>\n",
       "      <td>1.359795e+09</td>\n",
       "    </tr>\n",
       "    <tr>\n",
       "      <th>3</th>\n",
       "      <td>3</td>\n",
       "      <td>BaldursGate3</td>\n",
       "      <td>2364982</td>\n",
       "      <td>A community all about Baldur's Gate III, the r...</td>\n",
       "      <td>1.559227e+09</td>\n",
       "    </tr>\n",
       "    <tr>\n",
       "      <th>4</th>\n",
       "      <td>4</td>\n",
       "      <td>facepalm</td>\n",
       "      <td>8265075</td>\n",
       "      <td>/r/facepalm - please sir can I have some more?</td>\n",
       "      <td>1.251449e+09</td>\n",
       "    </tr>\n",
       "  </tbody>\n",
       "</table>\n",
       "</div>"
      ],
      "text/plain": [
       "   subreddit_id    tittleSubreddit  subscribersReddit  \\\n",
       "0             0               Home             243743   \n",
       "1             1          AskReddit           48481312   \n",
       "2             2  NoStupidQuestions            4980890   \n",
       "3             3       BaldursGate3            2364982   \n",
       "4             4           facepalm            8265075   \n",
       "\n",
       "                                   descriptionReddit  createdReddit  \n",
       "0                                                      1.232850e+09  \n",
       "1  r/AskReddit is the place to ask and answer tho...   1.201233e+09  \n",
       "2  Ask away!\\n\\nDisclaimer: This is an anonymous ...   1.359795e+09  \n",
       "3  A community all about Baldur's Gate III, the r...   1.559227e+09  \n",
       "4     /r/facepalm - please sir can I have some more?   1.251449e+09  "
      ]
     },
     "execution_count": 48,
     "metadata": {},
     "output_type": "execute_result"
    }
   ],
   "source": [
    "subreddit_data.head()"
   ]
  },
  {
   "cell_type": "code",
   "execution_count": 49,
   "metadata": {},
   "outputs": [
    {
     "data": {
      "text/html": [
       "<div>\n",
       "<style scoped>\n",
       "    .dataframe tbody tr th:only-of-type {\n",
       "        vertical-align: middle;\n",
       "    }\n",
       "\n",
       "    .dataframe tbody tr th {\n",
       "        vertical-align: top;\n",
       "    }\n",
       "\n",
       "    .dataframe thead th {\n",
       "        text-align: right;\n",
       "    }\n",
       "</style>\n",
       "<table border=\"1\" class=\"dataframe\">\n",
       "  <thead>\n",
       "    <tr style=\"text-align: right;\">\n",
       "      <th></th>\n",
       "      <th>subreddit_id</th>\n",
       "      <th>titlePost</th>\n",
       "      <th>selftext</th>\n",
       "      <th>createdPost</th>\n",
       "      <th>scorePost</th>\n",
       "      <th>upVotedRatio</th>\n",
       "      <th>upVotes</th>\n",
       "      <th>commentsPost</th>\n",
       "    </tr>\n",
       "  </thead>\n",
       "  <tbody>\n",
       "    <tr>\n",
       "      <th>0</th>\n",
       "      <td>0</td>\n",
       "      <td>What is the price range for a house like this?</td>\n",
       "      <td></td>\n",
       "      <td>1.692354e+09</td>\n",
       "      <td>11633</td>\n",
       "      <td>0.92</td>\n",
       "      <td>11633</td>\n",
       "      <td>1727</td>\n",
       "    </tr>\n",
       "    <tr>\n",
       "      <th>1</th>\n",
       "      <td>0</td>\n",
       "      <td>Why is there a door above the garage?</td>\n",
       "      <td>It has a porch light. There’s a door knob and ...</td>\n",
       "      <td>1.684428e+09</td>\n",
       "      <td>6026</td>\n",
       "      <td>0.96</td>\n",
       "      <td>6026</td>\n",
       "      <td>1700</td>\n",
       "    </tr>\n",
       "    <tr>\n",
       "      <th>2</th>\n",
       "      <td>0</td>\n",
       "      <td>Can I fix these garage door torsion springs by...</td>\n",
       "      <td>Wdyt about me replacing this pair by myself?</td>\n",
       "      <td>1.693079e+09</td>\n",
       "      <td>5581</td>\n",
       "      <td>0.86</td>\n",
       "      <td>5581</td>\n",
       "      <td>3644</td>\n",
       "    </tr>\n",
       "    <tr>\n",
       "      <th>3</th>\n",
       "      <td>0</td>\n",
       "      <td>What you call these types of designs</td>\n",
       "      <td></td>\n",
       "      <td>1.692639e+09</td>\n",
       "      <td>2824</td>\n",
       "      <td>0.96</td>\n",
       "      <td>2824</td>\n",
       "      <td>579</td>\n",
       "    </tr>\n",
       "    <tr>\n",
       "      <th>4</th>\n",
       "      <td>0</td>\n",
       "      <td>An inspector said this is termite damage and m...</td>\n",
       "      <td></td>\n",
       "      <td>1.690566e+09</td>\n",
       "      <td>2692</td>\n",
       "      <td>0.94</td>\n",
       "      <td>2692</td>\n",
       "      <td>952</td>\n",
       "    </tr>\n",
       "  </tbody>\n",
       "</table>\n",
       "</div>"
      ],
      "text/plain": [
       "   subreddit_id                                          titlePost  \\\n",
       "0             0     What is the price range for a house like this?   \n",
       "1             0              Why is there a door above the garage?   \n",
       "2             0  Can I fix these garage door torsion springs by...   \n",
       "3             0               What you call these types of designs   \n",
       "4             0  An inspector said this is termite damage and m...   \n",
       "\n",
       "                                            selftext   createdPost  scorePost  \\\n",
       "0                                                     1.692354e+09      11633   \n",
       "1  It has a porch light. There’s a door knob and ...  1.684428e+09       6026   \n",
       "2       Wdyt about me replacing this pair by myself?  1.693079e+09       5581   \n",
       "3                                                     1.692639e+09       2824   \n",
       "4                                                     1.690566e+09       2692   \n",
       "\n",
       "   upVotedRatio  upVotes  commentsPost  \n",
       "0          0.92    11633          1727  \n",
       "1          0.96     6026          1700  \n",
       "2          0.86     5581          3644  \n",
       "3          0.96     2824           579  \n",
       "4          0.94     2692           952  "
      ]
     },
     "execution_count": 49,
     "metadata": {},
     "output_type": "execute_result"
    }
   ],
   "source": [
    "posts_data.head()"
   ]
  },
  {
   "cell_type": "markdown",
   "metadata": {},
   "source": [
    "**Procesamiento subreddits**"
   ]
  },
  {
   "cell_type": "code",
   "execution_count": 50,
   "metadata": {},
   "outputs": [
    {
     "data": {
      "text/plain": [
       "1"
      ]
     },
     "execution_count": 50,
     "metadata": {},
     "output_type": "execute_result"
    }
   ],
   "source": [
    "#Cambiamos el formato de las fechas en posts_data a datetime\n",
    "posts_data['createdPost'] = pd.to_datetime(posts_data['createdPost'], unit='s')\n",
    "subreddit_data['createdReddit'] = pd.to_datetime(subreddit_data['createdReddit'], unit='s')\n",
    "#Debido a que pocos registros tienen la descripción vacía, se puede asumir su uso.\n",
    "numNulls = (subreddit_data[\"descriptionReddit\"] == \"\").sum()\n",
    "numNulls "
   ]
  },
  {
   "cell_type": "markdown",
   "metadata": {},
   "source": [
    "***Procesamiento posts***"
   ]
  },
  {
   "cell_type": "code",
   "execution_count": 51,
   "metadata": {},
   "outputs": [
    {
     "name": "stdout",
     "output_type": "stream",
     "text": [
      "Total de registros en la columna 'selftext': 30000\n",
      "Porcentaje de registros vacios en la columna 'selftext': 72.92999999999999 %\n"
     ]
    }
   ],
   "source": [
    "#Se elimina la columna 'selftext' debido alto porcentage de vacios\n",
    "numNulls = (posts_data[\"selftext\"] == \"\").sum()\n",
    "percentage = numNulls / len(posts_data[\"selftext\"]) * 100\n",
    "\n",
    "print(\"Total de registros en la columna 'selftext':\", len(posts_data[\"selftext\"]))\n",
    "print(\"Porcentaje de registros vacios en la columna 'selftext':\", percentage, \"%\")\n",
    "posts_data = posts_data.drop(columns=[\"selftext\"])"
   ]
  },
  {
   "cell_type": "code",
   "execution_count": 52,
   "metadata": {},
   "outputs": [
    {
     "data": {
      "image/png": "[encoded data removed]",
      "text/plain": [
       "<Figure size 1200x600 with 1 Axes>"
      ]
     },
     "metadata": {},
     "output_type": "display_data"
    }
   ],
   "source": [
    "postsMonth = posts_data['createdPost'].dt.to_period('M').value_counts().sort_index()\n",
    "date_range = pd.period_range(start=postsMonth.index.min(), end=postsMonth.index.max(), freq='M')\n",
    "postsMonth = postsMonth.reindex(date_range, fill_value=0)\n",
    "\n",
    "plt.figure(figsize=(12, 6))\n",
    "postsMonth.plot(kind='bar')\n",
    "plt.title('Número de publicaciones por mes')\n",
    "plt.xlabel('Mes')\n",
    "plt.ylabel('Número de publicaciones')\n",
    "plt.show()"
   ]
  },
  {
   "cell_type": "code",
   "execution_count": 53,
   "metadata": {},
   "outputs": [],
   "source": [
    "subreddit_data.to_csv('../data/subreddit_data.csv', index=False)\n",
    "posts_data.to_csv('../data/posts_data.csv', index=False)"
   ]
  }
 ],
 "metadata": {
  "kernelspec": {
   "display_name": "dataScience",
   "language": "python",
   "name": "python3"
  },
  "language_info": {
   "codemirror_mode": {
    "name": "ipython",
    "version": 3
   },
   "file_extension": ".py",
   "mimetype": "text/x-python",
   "name": "python",
   "nbconvert_exporter": "python",
   "pygments_lexer": "ipython3",
   "version": "3.10.13"
  }
 },
 "nbformat": 4,
 "nbformat_minor": 2
}
