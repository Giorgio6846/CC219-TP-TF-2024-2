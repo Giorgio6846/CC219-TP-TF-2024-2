{
 "cells": [
  {
   "cell_type": "code",
   "execution_count": 4,
   "metadata": {},
   "outputs": [],
   "source": [
    "import praw\n",
    "import os\n",
    "from dotenv import load_dotenv, dotenv_values \n",
    "import json\n",
    "from datetime import datetime"
   ]
  },
  {
   "cell_type": "code",
   "execution_count": 5,
   "metadata": {},
   "outputs": [],
   "source": [
    "#Inicializamos las credenciales para el uso API\n",
    "load_dotenv()\n",
    "CLIENT_ID = os.getenv('CLIENT_ID')\n",
    "SECRET_KEY = os.getenv('SECRET_KEY')\n",
    "USER_AGENT = os.getenv('USER_AGENT')\n",
    "USERNAMEAPI = os.getenv('USERNAMEAPI')\n",
    "PASSWORD = os.getenv('PASSWORD')\n",
    "\n",
    "reddit = praw.Reddit(\n",
    "    client_id=CLIENT_ID,\n",
    "    client_secret=SECRET_KEY,\n",
    "    user_agent=USER_AGENT,\n",
    "    username=USERNAMEAPI,\n",
    "    password=PASSWORD\n",
    ")"
   ]
  },
  {
   "cell_type": "code",
   "execution_count": 6,
   "metadata": {},
   "outputs": [],
   "source": [
    "import datetime\n",
    "import json\n",
    "\n",
    "start_date = datetime.datetime(2023, 10, 1)\n",
    "end_date = datetime.datetime(2024, 10, 1)\n",
    "\n",
    "start_timestamp = int(start_date.timestamp())\n",
    "end_timestamp = int(end_date.timestamp())\n",
    "\n",
    "subreddit_list = []\n",
    "\n",
    "subreddits = reddit.subreddits.popular(limit=100)\n",
    "\n",
    "for subreddit in subreddits:\n",
    "    subreddit_data = {\n",
    "        \"tittleSubreddit\": subreddit.display_name,\n",
    "        \"subscribersReddit\": subreddit.subscribers,\n",
    "        \"descriptionReddit\": subreddit.public_description,\n",
    "        \"createdReddit\": subreddit.created_utc,\n",
    "        \"subreddit_url\": f\"https://www.reddit.com{subreddit.url}\",\n",
    "        \"upVotedPosts\": []\n",
    "    }\n",
    "\n",
    "    # Obtener las publicaciones más populares del último año\n",
    "    for submission in subreddit.top(limit=2000, time_filter=\"year\"):\n",
    "        # Filtrar por fecha de publicación dentro del rango deseado\n",
    "        if start_timestamp <= submission.created_utc <= end_timestamp:\n",
    "            submission_data = {\n",
    "                \"author\": str(submission.author),\n",
    "                \"titlePost\": submission.title,\n",
    "                \"selftext\": submission.selftext,\n",
    "                \"createdPost\": submission.created_utc,\n",
    "                \"scorePost\": submission.score,\n",
    "                \"upVotedRatio\": submission.upvote_ratio,\n",
    "                \"upVotes\": submission.ups,\n",
    "                \"flair\": submission.link_flair_text,\n",
    "                \"commentsPost\": submission.num_comments,\n",
    "                \"urlPost\": submission.url\n",
    "            }\n",
    "\n",
    "            subreddit_data[\"upVotedPosts\"].append(submission_data)\n",
    "\n",
    "    # Agregar datos del subreddit a la lista\n",
    "    subreddit_list.append(subreddit_data)\n",
    "\n",
    "# Guardar los resultados en un archivo JSON\n",
    "with open('subreddits.json', 'w') as json_file:\n",
    "    json.dump(subreddit_list, json_file, indent=4)\n"
   ]
  }
 ],
 "metadata": {
  "kernelspec": {
   "display_name": "base",
   "language": "python",
   "name": "python3"
  },
  "language_info": {
   "codemirror_mode": {
    "name": "ipython",
    "version": 3
   },
   "file_extension": ".py",
   "mimetype": "text/x-python",
   "name": "python",
   "nbconvert_exporter": "python",
   "pygments_lexer": "ipython3",
   "version": "3.11.7"
  }
 },
 "nbformat": 4,
 "nbformat_minor": 2
}
