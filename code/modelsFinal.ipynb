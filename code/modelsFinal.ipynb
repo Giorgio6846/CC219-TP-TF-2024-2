{
 "cells": [
  {
   "cell_type": "code",
   "execution_count": 3,
   "metadata": {},
   "outputs": [
    {
     "name": "stdout",
     "output_type": "stream",
     "text": [
      "WARNING:tensorflow:From c:\\Users\\faboa\\anaconda3\\Lib\\site-packages\\keras\\src\\losses.py:2976: The name tf.losses.sparse_softmax_cross_entropy is deprecated. Please use tf.compat.v1.losses.sparse_softmax_cross_entropy instead.\n",
      "\n"
     ]
    },
    {
     "name": "stderr",
     "output_type": "stream",
     "text": [
      "[nltk_data] Downloading package stopwords to\n",
      "[nltk_data]     C:\\Users\\faboa\\AppData\\Roaming\\nltk_data...\n",
      "[nltk_data]   Package stopwords is already up-to-date!\n",
      "[nltk_data] Downloading package punkt to\n",
      "[nltk_data]     C:\\Users\\faboa\\AppData\\Roaming\\nltk_data...\n",
      "[nltk_data]   Package punkt is already up-to-date!\n",
      "[nltk_data] Downloading package stopwords to\n",
      "[nltk_data]     C:\\Users\\faboa\\AppData\\Roaming\\nltk_data...\n",
      "[nltk_data]   Package stopwords is already up-to-date!\n",
      "[nltk_data] Downloading package wordnet to\n",
      "[nltk_data]     C:\\Users\\faboa\\AppData\\Roaming\\nltk_data...\n",
      "[nltk_data]   Package wordnet is already up-to-date!\n",
      "[nltk_data] Error loading corpus: Package 'corpus' not found in index\n"
     ]
    }
   ],
   "source": [
    "# Importar librerías necesarias\n",
    "import pandas as pd\n",
    "import numpy as np\n",
    "import spacy\n",
    "from scipy.sparse import hstack\n",
    "\n",
    "import matplotlib.pyplot as plt\n",
    "import seaborn as sns\n",
    "\n",
    "from sklearn.feature_extraction.text import TfidfVectorizer\n",
    "from sklearn.naive_bayes import MultinomialNB\n",
    "from sklearn.svm import LinearSVC\n",
    "from sklearn.model_selection import train_test_split\n",
    "from sklearn.metrics import classification_report, confusion_matrix\n",
    "\n",
    "from sklearn.feature_extraction.text import TfidfVectorizer\n",
    "from sklearn.cluster import KMeans\n",
    "from sklearn.metrics import silhouette_score\n",
    "from sklearn.preprocessing import StandardScaler\n",
    "\n",
    "\n",
    "import statsmodels.api as sm\n",
    "from tensorflow.keras.models import Sequential\n",
    "from tensorflow.keras.layers import LSTM, Dense\n",
    "from tensorflow.keras.preprocessing.sequence import TimeseriesGenerator\n",
    "\n",
    "\n",
    "import nltk\n",
    "from nltk.tokenize import word_tokenize\n",
    "from nltk.stem import WordNetLemmatizer\n",
    "from nltk.corpus import stopwords\n",
    "\n",
    "nltk.download('stopwords')\n",
    "nltk.download('punkt')\n",
    "nltk.download('stopwords')\n",
    "nltk.download('wordnet')\n",
    "nltk.download('corpus')\n",
    "\n",
    "# Configurar visualización\n",
    "plt.style.use('seaborn-v0_8')\n",
    "sns.set_palette('husl')\n"
   ]
  },
  {
   "cell_type": "code",
   "execution_count": 4,
   "metadata": {},
   "outputs": [],
   "source": [
    "#Cargamos los csv EDA\n",
    "subreddit_data = pd.read_csv('../data/subreddit_data.csv')\n",
    "posts_data = pd.read_csv('../data/posts_data.csv')\n",
    "subreddit_data = subreddit_data.fillna(\"\")\n",
    "posts_data = posts_data.fillna(\"\")\n",
    "combined_data = posts_data.merge(subreddit_data, on='subreddit_id', how='left')"
   ]
  },
  {
   "cell_type": "markdown",
   "metadata": {},
   "source": [
    "# Tokenizacion y Lematizacion"
   ]
  },
  {
   "cell_type": "code",
   "execution_count": 5,
   "metadata": {},
   "outputs": [],
   "source": [
    "class RedditTextProcessor:\n",
    "    def __init__(self):\n",
    "        # Inicializar el lematizador\n",
    "        self.lemmatizer = WordNetLemmatizer()\n",
    "        self.stop_words = set(stopwords.words('english'))\n",
    "        self.columns_to_process = [\"titlePost\", \"tittleSubreddit\", \"descriptionReddit\"]\n",
    "\n",
    "    def preprocess_text(self, text):\n",
    "        # Tokenización\n",
    "        text = str(text)\n",
    "        tokens = word_tokenize(text.lower())\n",
    "        # Lematización y filtrado de stopwords\n",
    "        tokens = [\n",
    "            self.lemmatizer.lemmatize(token) for token in tokens \n",
    "            if token.isalpha() and token not in self.stop_words\n",
    "        ]\n",
    "        # Se devuelve una cadena y no una lista de tokens para los modelos de aprendizaje\n",
    "        return \" \".join(tokens)\n",
    "    \n",
    "    def process_dataframe(self, df):\n",
    "        for column in df.columns:\n",
    "            if df[column].dtype == object and column  in self.columns_to_process:\n",
    "                df[column] = df[column].apply(self.preprocess_text)\n",
    "        return df"
   ]
  },
  {
   "cell_type": "code",
   "execution_count": 6,
   "metadata": {},
   "outputs": [],
   "source": [
    "textProcessor = RedditTextProcessor()\n",
    "processed_data = textProcessor.process_dataframe(combined_data)"
   ]
  },
  {
   "cell_type": "markdown",
   "metadata": {},
   "source": [
    "# Clustering"
   ]
  },
  {
   "cell_type": "code",
   "execution_count": null,
   "metadata": {},
   "outputs": [
    {
     "name": "stderr",
     "output_type": "stream",
     "text": [
      "c:\\Users\\faboa\\anaconda3\\Lib\\site-packages\\sklearn\\cluster\\_kmeans.py:870: FutureWarning: The default value of `n_init` will change from 10 to 'auto' in 1.4. Set the value of `n_init` explicitly to suppress the warning\n",
      "  warnings.warn(\n"
     ]
    },
    {
     "name": "stdout",
     "output_type": "stream",
     "text": [
      "Para k=2, el coeficiente de silueta es 0.33205523507301865\n"
     ]
    },
    {
     "name": "stderr",
     "output_type": "stream",
     "text": [
      "c:\\Users\\faboa\\anaconda3\\Lib\\site-packages\\sklearn\\cluster\\_kmeans.py:870: FutureWarning: The default value of `n_init` will change from 10 to 'auto' in 1.4. Set the value of `n_init` explicitly to suppress the warning\n",
      "  warnings.warn(\n"
     ]
    },
    {
     "name": "stdout",
     "output_type": "stream",
     "text": [
      "Para k=3, el coeficiente de silueta es 0.3262015707329543\n"
     ]
    },
    {
     "name": "stderr",
     "output_type": "stream",
     "text": [
      "c:\\Users\\faboa\\anaconda3\\Lib\\site-packages\\sklearn\\cluster\\_kmeans.py:870: FutureWarning: The default value of `n_init` will change from 10 to 'auto' in 1.4. Set the value of `n_init` explicitly to suppress the warning\n",
      "  warnings.warn(\n"
     ]
    },
    {
     "name": "stdout",
     "output_type": "stream",
     "text": [
      "Para k=4, el coeficiente de silueta es 0.18823457248861358\n"
     ]
    },
    {
     "name": "stderr",
     "output_type": "stream",
     "text": [
      "c:\\Users\\faboa\\anaconda3\\Lib\\site-packages\\sklearn\\cluster\\_kmeans.py:870: FutureWarning: The default value of `n_init` will change from 10 to 'auto' in 1.4. Set the value of `n_init` explicitly to suppress the warning\n",
      "  warnings.warn(\n"
     ]
    },
    {
     "name": "stdout",
     "output_type": "stream",
     "text": [
      "Para k=5, el coeficiente de silueta es 0.11848397204612987\n"
     ]
    },
    {
     "name": "stderr",
     "output_type": "stream",
     "text": [
      "c:\\Users\\faboa\\anaconda3\\Lib\\site-packages\\sklearn\\cluster\\_kmeans.py:870: FutureWarning: The default value of `n_init` will change from 10 to 'auto' in 1.4. Set the value of `n_init` explicitly to suppress the warning\n",
      "  warnings.warn(\n"
     ]
    },
    {
     "name": "stdout",
     "output_type": "stream",
     "text": [
      "Para k=6, el coeficiente de silueta es 0.11467095856858235\n"
     ]
    },
    {
     "name": "stderr",
     "output_type": "stream",
     "text": [
      "c:\\Users\\faboa\\anaconda3\\Lib\\site-packages\\sklearn\\cluster\\_kmeans.py:870: FutureWarning: The default value of `n_init` will change from 10 to 'auto' in 1.4. Set the value of `n_init` explicitly to suppress the warning\n",
      "  warnings.warn(\n"
     ]
    },
    {
     "name": "stdout",
     "output_type": "stream",
     "text": [
      "Para k=7, el coeficiente de silueta es 0.07806908080282342\n"
     ]
    },
    {
     "name": "stderr",
     "output_type": "stream",
     "text": [
      "c:\\Users\\faboa\\anaconda3\\Lib\\site-packages\\sklearn\\cluster\\_kmeans.py:870: FutureWarning: The default value of `n_init` will change from 10 to 'auto' in 1.4. Set the value of `n_init` explicitly to suppress the warning\n",
      "  warnings.warn(\n"
     ]
    },
    {
     "name": "stdout",
     "output_type": "stream",
     "text": [
      "Para k=8, el coeficiente de silueta es 0.05433966753966667\n"
     ]
    },
    {
     "name": "stderr",
     "output_type": "stream",
     "text": [
      "c:\\Users\\faboa\\anaconda3\\Lib\\site-packages\\sklearn\\cluster\\_kmeans.py:870: FutureWarning: The default value of `n_init` will change from 10 to 'auto' in 1.4. Set the value of `n_init` explicitly to suppress the warning\n",
      "  warnings.warn(\n"
     ]
    },
    {
     "name": "stdout",
     "output_type": "stream",
     "text": [
      "Para k=9, el coeficiente de silueta es 0.05208717505537563\n"
     ]
    },
    {
     "data": {
      "image/png": "[encoded data removed]",
      "text/plain": [
       "<Figure size 1000x500 with 1 Axes>"
      ]
     },
     "metadata": {},
     "output_type": "display_data"
    },
    {
     "data": {
      "image/png": "[encoded data removed]",
      "text/plain": [
       "<Figure size 1000x500 with 1 Axes>"
      ]
     },
     "metadata": {},
     "output_type": "display_data"
    }
   ],
   "source": [
    "class RedditClustering:\n",
    "    def __init__(self, processed_data):\n",
    "        #Transformacion de texto a valor numerica para procesar datos\n",
    "        self.vectorizer_title = TfidfVectorizer(max_df=0.5, min_df=5, stop_words='english')\n",
    "        self.vectorizer_subreddit = TfidfVectorizer(max_df=0.5, min_df=5, stop_words='english')\n",
    "        self.vectorizer_description = TfidfVectorizer(max_df=0.5, min_df=5, stop_words='english')\n",
    "\n",
    "        tfidf_title = self.vectorizer_title.fit_transform(processed_data['titlePost'])\n",
    "        tfidf_subreddit = self.vectorizer_subreddit.fit_transform(processed_data['tittleSubreddit'])\n",
    "        tfidf_description = self.vectorizer_description.fit_transform(processed_data['descriptionReddit'])\n",
    "\n",
    "        combined_tfidf = hstack([tfidf_title, tfidf_subreddit, tfidf_description])\n",
    "\n",
    "        post_numeric_features  = StandardScaler().fit_transform(processed_data[['upVotes', 'scorePost', 'commentsPost']])\n",
    "        self.combined_features = hstack([combined_tfidf, post_numeric_features])\n",
    "        \n",
    "        \n",
    "    def get_k_values(self):\n",
    "        distortions = []\n",
    "        silhouette_scores = []\n",
    "        K = range(2, 10)\n",
    "        for k in K:\n",
    "            kmeans_model = KMeans(n_clusters=k, random_state=42)\n",
    "            kmeans_model.fit(self.combined_features)\n",
    "            distortions.append(kmeans_model.inertia_)\n",
    "            silhouette_avg = silhouette_score(self.combined_features, kmeans_model.labels_)\n",
    "            silhouette_scores.append(silhouette_avg)\n",
    "            print(f\"Para k={k}, el coeficiente de silueta es {silhouette_avg}\")\n",
    "\n",
    "        # Visualización del método del codo\n",
    "        plt.figure(figsize=(10, 5))\n",
    "        plt.plot(K, distortions, 'bx-')\n",
    "        plt.xlabel('Número de clusters')\n",
    "        plt.ylabel('Distorsión')\n",
    "        plt.title('Método del Codo para K óptimo')\n",
    "        plt.show()\n",
    "\n",
    "        # Visualización del coeficiente de silueta\n",
    "        plt.figure(figsize=(10, 5))\n",
    "        plt.plot(K, silhouette_scores, 'bx-')\n",
    "        plt.xlabel('Número de clusters')\n",
    "        plt.ylabel('Coeficiente de Silueta')\n",
    "        plt.title('Coeficiente de Silueta para K óptimo')\n",
    "        plt.show()\n",
    "\n",
    "    def apply_kmeans(self, k, df):\n",
    "        kmeans = KMeans(n_clusters=k, random_state=42)\n",
    "        kmeans.fit(self.combined_features)\n",
    "        clusters = kmeans.labels_\n",
    "        df['Cluster'] = clusters\n",
    "        score = silhouette_score(self.combined_features, clusters)\n",
    "        print(\"Silhouette Score para clusters:\", score)\n",
    "        return df\n",
    "    def analyze_clusters(self, df, n_keywords=5):\n",
    "        cluster_names = {}\n",
    "        \n",
    "        for cluster_id in sorted(df['Cluster'].unique()):\n",
    "            titles_in_cluster = df[df['Cluster'] == cluster_id]['titlePost']\n",
    "            \n",
    "            tfidf_matrix = self.vectorizer_title.transform(titles_in_cluster)\n",
    "            sum_tfidf = tfidf_matrix.sum(axis=0)\n",
    "            keywords = [(self.vectorizer_title.get_feature_names_out()[i], sum_tfidf[0, i]) \n",
    "                        for i in range(sum_tfidf.shape[1])]\n",
    "            \n",
    "            sorted_keywords = sorted(keywords, key=lambda x: x[1], reverse=True)[:n_keywords]\n",
    "            top_keywords = [word for word, score in sorted_keywords]\n",
    "            \n",
    "            cluster_name = \" / \".join(top_keywords)\n",
    "            cluster_names[cluster_id] = cluster_name\n",
    "            \n",
    "            print(f\"Cluster {cluster_id}: {cluster_name}\")\n",
    "\n",
    "        # Asignar nombres a los clusters en el DataFrame\n",
    "        df['Cluster_Name'] = df['Cluster'].map(cluster_names).astype('category')\n",
    "        return df\n",
    "    def assign_subreddit_names(self, df):\n",
    "        cluster_names = {}\n",
    "\n",
    "        for cluster_id in sorted(df['Cluster'].unique()):\n",
    "            subreddits_in_cluster = df[df['Cluster'] == cluster_id]['tittleSubreddit']\n",
    "            \n",
    "            most_common_subreddit = subreddits_in_cluster.mode()[0]\n",
    "            \n",
    "            cluster_names[cluster_id] = most_common_subreddit\n",
    "            \n",
    "            print(f\"Cluster {cluster_id}: {most_common_subreddit}\")\n",
    "\n",
    "        df['Cluster_Name'] = df['Cluster'].map(cluster_names).astype('category')\n",
    "        return df\n",
    "\n",
    "\n",
    "clustering = RedditClustering(processed_data)\n",
    "clustering.get_k_values()\n"
   ]
  },
  {
   "cell_type": "code",
   "execution_count": 10,
   "metadata": {},
   "outputs": [
    {
     "name": "stderr",
     "output_type": "stream",
     "text": [
      "c:\\Users\\faboa\\anaconda3\\Lib\\site-packages\\sklearn\\cluster\\_kmeans.py:870: FutureWarning: The default value of `n_init` will change from 10 to 'auto' in 1.4. Set the value of `n_init` explicitly to suppress the warning\n",
      "  warnings.warn(\n"
     ]
    },
    {
     "name": "stdout",
     "output_type": "stream",
     "text": [
      "Silhouette Score para clusters: 0.1710344383786576\n",
      "Cluster 0: nfl\n",
      "Cluster 1: interestingasfuck\n",
      "Cluster 2: askreddit\n",
      "Cluster 3: todayilearned\n",
      "Cluster 4: politics\n",
      "Cluster 5: askreddit\n",
      "Cluster 6: \n",
      "Cluster 7: gaming\n",
      "Cluster 8: warframe\n",
      "Cluster 9: shitposting\n",
      "Cluster 10: honkaistarrail\n",
      "Cluster 11: anime\n",
      "Cluster 12: mademesmile\n",
      "Cluster 13: helldivers\n",
      "Cluster 14: coolguides\n",
      "Cluster 15: mademesmile\n",
      "Cluster 16: whitepeopletwitter\n",
      "Cluster 17: steamdeck\n",
      "Cluster 18: globaloffensive\n",
      "Cluster 19: game\n",
      "Cluster 20: college\n",
      "Cluster 21: aitah\n",
      "Cluster 22: manga\n",
      "Cluster 23: discordapp\n",
      "Cluster 24: facepalm\n",
      "Cluster 25: feedthebeast\n",
      "Cluster 26: wtf\n",
      "Cluster 27: techsupport\n",
      "Cluster 28: askmen\n",
      "Cluster 29: personalfinance\n",
      "Cluster 30: sysadmin\n",
      "Cluster 31: curatedtumblr\n",
      "Cluster 32: classicwow\n",
      "Cluster 33: escapefromtarkov\n",
      "Cluster 34: home\n",
      "Cluster 35: buildapc\n",
      "Cluster 36: explainlikeimfive\n",
      "Cluster 37: badroommates\n",
      "Cluster 38: peterexplainsthejoke\n",
      "Cluster 39: outoftheloop\n",
      "Cluster 40: minecraft\n",
      "Cluster 41: legaladvice\n",
      "Cluster 42: mapporn\n",
      "Cluster 43: bestofredditorupdates\n",
      "Cluster 44: gamingcirclejerk\n",
      "Cluster 45: ffxiv\n",
      "Cluster 46: piracy\n",
      "Cluster 47: livestreamfail\n",
      "Cluster 48: unpopularopinion\n",
      "Cluster 49: onepiece\n",
      "       Cluster           Cluster_Name\n",
      "0           13             helldivers\n",
      "1           34                   home\n",
      "2           21                  aitah\n",
      "300          2              askreddit\n",
      "304         24               facepalm\n",
      "306          5              askreddit\n",
      "357          4               politics\n",
      "611         38   peterexplainsthejoke\n",
      "895          6                       \n",
      "900          9            shitposting\n",
      "1200        15            mademesmile\n",
      "1231        12            mademesmile\n",
      "1310        16     whitepeopletwitter\n",
      "1565         1      interestingasfuck\n",
      "2100        47         livestreamfail\n",
      "3600        46                 piracy\n",
      "5437         7                 gaming\n",
      "7823         3          todayilearned\n",
      "9300        36      explainlikeimfive\n",
      "9600        39           outoftheloop\n",
      "9902        49               onepiece\n",
      "10501       35               buildapc\n",
      "10800       10         honkaistarrail\n",
      "11401       40              minecraft\n",
      "12000        0                    nfl\n",
      "13206       42                mapporn\n",
      "13519        8               warframe\n",
      "14400       32             classicwow\n",
      "15009       31          curatedtumblr\n",
      "15302       37           badroommates\n",
      "15600       29        personalfinance\n",
      "16201       11                  anime\n",
      "17700       33       escapefromtarkov\n",
      "18003       48       unpopularopinion\n",
      "18900       43  bestofredditorupdates\n",
      "19500       41            legaladvice\n",
      "19800       45                  ffxiv\n",
      "20100       30               sysadmin\n",
      "21007       28                 askmen\n",
      "21301       23             discordapp\n",
      "21900       19                   game\n",
      "22500       18        globaloffensive\n",
      "23703       44       gamingcirclejerk\n",
      "24600       27            techsupport\n",
      "25802       26                    wtf\n",
      "26704       14             coolguides\n",
      "27600       25           feedthebeast\n",
      "28500       17              steamdeck\n",
      "28800       20                college\n",
      "29100       22                  manga\n"
     ]
    }
   ],
   "source": [
    "processed_data = clustering.apply_kmeans(50, processed_data)\n",
    "processed_data = clustering.assign_subreddit_names(processed_data)\n",
    "print(processed_data[['Cluster', 'Cluster_Name']].drop_duplicates())"
   ]
  },
  {
   "cell_type": "code",
   "execution_count": 11,
   "metadata": {},
   "outputs": [
    {
     "data": {
      "text/html": [
       "<div>\n",
       "<style scoped>\n",
       "    .dataframe tbody tr th:only-of-type {\n",
       "        vertical-align: middle;\n",
       "    }\n",
       "\n",
       "    .dataframe tbody tr th {\n",
       "        vertical-align: top;\n",
       "    }\n",
       "\n",
       "    .dataframe thead th {\n",
       "        text-align: right;\n",
       "    }\n",
       "</style>\n",
       "<table border=\"1\" class=\"dataframe\">\n",
       "  <thead>\n",
       "    <tr style=\"text-align: right;\">\n",
       "      <th></th>\n",
       "      <th>subreddit_id</th>\n",
       "      <th>titlePost</th>\n",
       "      <th>createdPost</th>\n",
       "      <th>scorePost</th>\n",
       "      <th>upVotedRatio</th>\n",
       "      <th>upVotes</th>\n",
       "      <th>commentsPost</th>\n",
       "      <th>tittleSubreddit</th>\n",
       "      <th>subscribersReddit</th>\n",
       "      <th>descriptionReddit</th>\n",
       "      <th>createdReddit</th>\n",
       "      <th>Cluster</th>\n",
       "      <th>Cluster_Name</th>\n",
       "    </tr>\n",
       "  </thead>\n",
       "  <tbody>\n",
       "    <tr>\n",
       "      <th>0</th>\n",
       "      <td>0</td>\n",
       "      <td>price range house like</td>\n",
       "      <td>2023-08-18 10:17:43</td>\n",
       "      <td>11633</td>\n",
       "      <td>0.92</td>\n",
       "      <td>11633</td>\n",
       "      <td>1727</td>\n",
       "      <td>home</td>\n",
       "      <td>243743</td>\n",
       "      <td></td>\n",
       "      <td>2009-01-25 02:25:57</td>\n",
       "      <td>13</td>\n",
       "      <td>helldivers</td>\n",
       "    </tr>\n",
       "    <tr>\n",
       "      <th>1</th>\n",
       "      <td>0</td>\n",
       "      <td>door garage</td>\n",
       "      <td>2023-05-18 16:41:57</td>\n",
       "      <td>6026</td>\n",
       "      <td>0.96</td>\n",
       "      <td>6026</td>\n",
       "      <td>1700</td>\n",
       "      <td>home</td>\n",
       "      <td>243743</td>\n",
       "      <td></td>\n",
       "      <td>2009-01-25 02:25:57</td>\n",
       "      <td>34</td>\n",
       "      <td>home</td>\n",
       "    </tr>\n",
       "    <tr>\n",
       "      <th>2</th>\n",
       "      <td>0</td>\n",
       "      <td>fix garage door torsion spring</td>\n",
       "      <td>2023-08-26 19:44:33</td>\n",
       "      <td>5581</td>\n",
       "      <td>0.86</td>\n",
       "      <td>5581</td>\n",
       "      <td>3644</td>\n",
       "      <td>home</td>\n",
       "      <td>243743</td>\n",
       "      <td></td>\n",
       "      <td>2009-01-25 02:25:57</td>\n",
       "      <td>21</td>\n",
       "      <td>aitah</td>\n",
       "    </tr>\n",
       "    <tr>\n",
       "      <th>3</th>\n",
       "      <td>0</td>\n",
       "      <td>call type design</td>\n",
       "      <td>2023-08-21 17:37:07</td>\n",
       "      <td>2824</td>\n",
       "      <td>0.96</td>\n",
       "      <td>2824</td>\n",
       "      <td>579</td>\n",
       "      <td>home</td>\n",
       "      <td>243743</td>\n",
       "      <td></td>\n",
       "      <td>2009-01-25 02:25:57</td>\n",
       "      <td>34</td>\n",
       "      <td>home</td>\n",
       "    </tr>\n",
       "    <tr>\n",
       "      <th>4</th>\n",
       "      <td>0</td>\n",
       "      <td>inspector said termite damage year old house m...</td>\n",
       "      <td>2023-07-28 17:40:05</td>\n",
       "      <td>2692</td>\n",
       "      <td>0.94</td>\n",
       "      <td>2692</td>\n",
       "      <td>952</td>\n",
       "      <td>home</td>\n",
       "      <td>243743</td>\n",
       "      <td></td>\n",
       "      <td>2009-01-25 02:25:57</td>\n",
       "      <td>34</td>\n",
       "      <td>home</td>\n",
       "    </tr>\n",
       "  </tbody>\n",
       "</table>\n",
       "</div>"
      ],
      "text/plain": [
       "   subreddit_id                                          titlePost  \\\n",
       "0             0                             price range house like   \n",
       "1             0                                        door garage   \n",
       "2             0                     fix garage door torsion spring   \n",
       "3             0                                   call type design   \n",
       "4             0  inspector said termite damage year old house m...   \n",
       "\n",
       "           createdPost  scorePost  upVotedRatio  upVotes  commentsPost  \\\n",
       "0  2023-08-18 10:17:43      11633          0.92    11633          1727   \n",
       "1  2023-05-18 16:41:57       6026          0.96     6026          1700   \n",
       "2  2023-08-26 19:44:33       5581          0.86     5581          3644   \n",
       "3  2023-08-21 17:37:07       2824          0.96     2824           579   \n",
       "4  2023-07-28 17:40:05       2692          0.94     2692           952   \n",
       "\n",
       "  tittleSubreddit  subscribersReddit descriptionReddit        createdReddit  \\\n",
       "0            home             243743                    2009-01-25 02:25:57   \n",
       "1            home             243743                    2009-01-25 02:25:57   \n",
       "2            home             243743                    2009-01-25 02:25:57   \n",
       "3            home             243743                    2009-01-25 02:25:57   \n",
       "4            home             243743                    2009-01-25 02:25:57   \n",
       "\n",
       "   Cluster Cluster_Name  \n",
       "0       13   helldivers  \n",
       "1       34         home  \n",
       "2       21        aitah  \n",
       "3       34         home  \n",
       "4       34         home  "
      ]
     },
     "execution_count": 11,
     "metadata": {},
     "output_type": "execute_result"
    }
   ],
   "source": [
    "processed_data.head()"
   ]
  }
 ],
 "metadata": {
  "kernelspec": {
   "display_name": "base",
   "language": "python",
   "name": "python3"
  },
  "language_info": {
   "codemirror_mode": {
    "name": "ipython",
    "version": 3
   },
   "file_extension": ".py",
   "mimetype": "text/x-python",
   "name": "python",
   "nbconvert_exporter": "python",
   "pygments_lexer": "ipython3",
   "version": "3.11.7"
  }
 },
 "nbformat": 4,
 "nbformat_minor": 2
}
